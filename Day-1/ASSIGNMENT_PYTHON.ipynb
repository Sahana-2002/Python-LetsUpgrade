{
  "nbformat": 4,
  "nbformat_minor": 0,
  "metadata": {
    "colab": {
      "name": "ASSIGNMENT PYTHON.ipynb",
      "provenance": [],
      "collapsed_sections": []
    },
    "kernelspec": {
      "name": "python3",
      "display_name": "Python 3"
    }
  },
  "cells": [
    {
      "cell_type": "markdown",
      "metadata": {
        "id": "GbS-2vk_-hLJ"
      },
      "source": [
        "ASSIGNMENT"
      ]
    },
    {
      "cell_type": "markdown",
      "metadata": {
        "id": "Uzz3DN1M9-Yl"
      },
      "source": [
        "Question No.1: Try 5 different functions of the string in python."
      ]
    },
    {
      "cell_type": "markdown",
      "metadata": {
        "id": "fMEUtPpy-yFi"
      },
      "source": [
        "1.capitalize()"
      ]
    },
    {
      "cell_type": "code",
      "metadata": {
        "colab": {
          "base_uri": "https://localhost:8080/"
        },
        "id": "LPvC2Svd-db5",
        "outputId": "e4a85819-45a3-49b0-94d5-6d1bc28791d9"
      },
      "source": [
        "s1='PYTHON'\r\n",
        "print(s1.capitalize())"
      ],
      "execution_count": 1,
      "outputs": [
        {
          "output_type": "stream",
          "text": [
            "Python\n"
          ],
          "name": "stdout"
        }
      ]
    },
    {
      "cell_type": "markdown",
      "metadata": {
        "id": "NLcyoLOp_oR-"
      },
      "source": [
        "2.lower() and upper()"
      ]
    },
    {
      "cell_type": "code",
      "metadata": {
        "colab": {
          "base_uri": "https://localhost:8080/"
        },
        "id": "oROUUNri_mIZ",
        "outputId": "fe856023-e3bd-457e-df14-fe35640489f4"
      },
      "source": [
        "s1='LetsUpgrade'\r\n",
        "print(s1.lower())\r\n",
        "print(s1.upper())"
      ],
      "execution_count": 2,
      "outputs": [
        {
          "output_type": "stream",
          "text": [
            "letsupgrade\n",
            "LETSUPGRADE\n"
          ],
          "name": "stdout"
        }
      ]
    },
    {
      "cell_type": "markdown",
      "metadata": {
        "id": "NJsdX2cjAaN7"
      },
      "source": [
        "3.swapcase()"
      ]
    },
    {
      "cell_type": "code",
      "metadata": {
        "colab": {
          "base_uri": "https://localhost:8080/"
        },
        "id": "BeqYmaA9AkB9",
        "outputId": "9e836d2b-6186-4f18-fc22-476d713b25ea"
      },
      "source": [
        "s1='Python Essentials'\r\n",
        "print(s1.swapcase())"
      ],
      "execution_count": 3,
      "outputs": [
        {
          "output_type": "stream",
          "text": [
            "pYTHON eSSENTIALS\n"
          ],
          "name": "stdout"
        }
      ]
    },
    {
      "cell_type": "markdown",
      "metadata": {
        "id": "k_7z9ibwBCF6"
      },
      "source": [
        "4.replace()"
      ]
    },
    {
      "cell_type": "code",
      "metadata": {
        "colab": {
          "base_uri": "https://localhost:8080/"
        },
        "id": "8vA4ibM9BMpf",
        "outputId": "fd538b89-888e-4b54-fc2e-9d35238b199f"
      },
      "source": [
        "s1='Python Essentials'\r\n",
        "print(s1.replace('a','x'))"
      ],
      "execution_count": 4,
      "outputs": [
        {
          "output_type": "stream",
          "text": [
            "Python Essentixls\n"
          ],
          "name": "stdout"
        }
      ]
    },
    {
      "cell_type": "markdown",
      "metadata": {
        "id": "cXoS6LGNB0KA"
      },
      "source": [
        "5.count()"
      ]
    },
    {
      "cell_type": "code",
      "metadata": {
        "colab": {
          "base_uri": "https://localhost:8080/"
        },
        "id": "tr0rrAhZCCCG",
        "outputId": "5bf03054-d605-4ae5-d3cb-3a148aebefc2"
      },
      "source": [
        "s1='Lets Upgrade'\r\n",
        "str='e'\r\n",
        "print(s1.count(str))"
      ],
      "execution_count": 7,
      "outputs": [
        {
          "output_type": "stream",
          "text": [
            "2\n"
          ],
          "name": "stdout"
        }
      ]
    },
    {
      "cell_type": "markdown",
      "metadata": {
        "id": "UItC5XixDDBz"
      },
      "source": [
        "6.isalnum()"
      ]
    },
    {
      "cell_type": "code",
      "metadata": {
        "colab": {
          "base_uri": "https://localhost:8080/"
        },
        "id": "mfiJZTsHDWmU",
        "outputId": "7e2bc07a-938e-41c0-d68f-4715f8a9b440"
      },
      "source": [
        "s1='Dynamite123'\r\n",
        "s1.isalnum()"
      ],
      "execution_count": 10,
      "outputs": [
        {
          "output_type": "execute_result",
          "data": {
            "text/plain": [
              "True"
            ]
          },
          "metadata": {
            "tags": []
          },
          "execution_count": 10
        }
      ]
    },
    {
      "cell_type": "markdown",
      "metadata": {
        "id": "HR0al8TrETnB"
      },
      "source": [
        "Question No.2: Try five different functions of the list object in python."
      ]
    },
    {
      "cell_type": "markdown",
      "metadata": {
        "id": "qfgy7WhfExMJ"
      },
      "source": [
        "1.append()"
      ]
    },
    {
      "cell_type": "code",
      "metadata": {
        "colab": {
          "base_uri": "https://localhost:8080/"
        },
        "id": "QKyrNQUNEu_x",
        "outputId": "878ebd12-18ef-4dad-9782-1a02dffad0d6"
      },
      "source": [
        "l=[10,20,30,40,50,60,70]\r\n",
        "print(l)\r\n",
        "l.append('apple')\r\n",
        "print(l)"
      ],
      "execution_count": 11,
      "outputs": [
        {
          "output_type": "stream",
          "text": [
            "[10, 20, 30, 40, 50, 60, 70]\n",
            "[10, 20, 30, 40, 50, 60, 70, 'apple']\n"
          ],
          "name": "stdout"
        }
      ]
    },
    {
      "cell_type": "markdown",
      "metadata": {
        "id": "SZZKzaIAFpHM"
      },
      "source": [
        "2.extend()"
      ]
    },
    {
      "cell_type": "code",
      "metadata": {
        "colab": {
          "base_uri": "https://localhost:8080/"
        },
        "id": "nfB86WrIFxjt",
        "outputId": "e360205e-2ed6-4ac8-ea95-e753d2928001"
      },
      "source": [
        "l=['apple','orange','watermelon','grapes','banana']\r\n",
        "print(l)\r\n",
        "l.extend(['strawberry','cherry','promogranate'])\r\n",
        "print(l)"
      ],
      "execution_count": 13,
      "outputs": [
        {
          "output_type": "stream",
          "text": [
            "['apple', 'orange', 'watermelon', 'grapes', 'banana']\n",
            "['apple', 'orange', 'watermelon', 'grapes', 'banana', 'strawberry', 'cherry', 'promogranate']\n"
          ],
          "name": "stdout"
        }
      ]
    },
    {
      "cell_type": "markdown",
      "metadata": {
        "id": "-0tRn2iaG4XK"
      },
      "source": [
        "3.sort()\r\n"
      ]
    },
    {
      "cell_type": "code",
      "metadata": {
        "colab": {
          "base_uri": "https://localhost:8080/"
        },
        "id": "IIrnT4DhHWfJ",
        "outputId": "146d1c69-b5df-4a01-b1bd-c0e111cabf16"
      },
      "source": [
        "l=[10,8,4,12,6,14,2]\r\n",
        "print(l)\r\n",
        "l.sort()\r\n",
        "print(l)"
      ],
      "execution_count": 14,
      "outputs": [
        {
          "output_type": "stream",
          "text": [
            "[10, 8, 4, 12, 6, 14, 2]\n",
            "[2, 4, 6, 8, 10, 12, 14]\n"
          ],
          "name": "stdout"
        }
      ]
    },
    {
      "cell_type": "markdown",
      "metadata": {
        "id": "RXRne3oeHxW0"
      },
      "source": [
        "4.sum()"
      ]
    },
    {
      "cell_type": "code",
      "metadata": {
        "colab": {
          "base_uri": "https://localhost:8080/"
        },
        "id": "TLw5WalAICnW",
        "outputId": "e8fbb12a-7794-4c06-d4e7-3836b2a2f68c"
      },
      "source": [
        "l=[2,4,6,8,10,12,14]\r\n",
        "print(sum(l))"
      ],
      "execution_count": 15,
      "outputs": [
        {
          "output_type": "stream",
          "text": [
            "56\n"
          ],
          "name": "stdout"
        }
      ]
    },
    {
      "cell_type": "markdown",
      "metadata": {
        "id": "AKvjyENEIV0Z"
      },
      "source": [
        "5.remove()"
      ]
    },
    {
      "cell_type": "code",
      "metadata": {
        "colab": {
          "base_uri": "https://localhost:8080/"
        },
        "id": "gcy4VutcIdrc",
        "outputId": "bded3d87-a9f7-4fd4-ebfd-7f119802f55e"
      },
      "source": [
        "l=[123,247,666,787,90,654]\r\n",
        "print(l)\r\n",
        "l.remove(90)\r\n",
        "print(l)"
      ],
      "execution_count": 16,
      "outputs": [
        {
          "output_type": "stream",
          "text": [
            "[123, 247, 666, 787, 90, 654]\n",
            "[123, 247, 666, 787, 654]\n"
          ],
          "name": "stdout"
        }
      ]
    },
    {
      "cell_type": "markdown",
      "metadata": {
        "id": "Qp1B81J_I8CV"
      },
      "source": [
        "6.index()"
      ]
    },
    {
      "cell_type": "code",
      "metadata": {
        "colab": {
          "base_uri": "https://localhost:8080/"
        },
        "id": "7JzOSbK3JEGm",
        "outputId": "570d8619-2707-495b-a88f-bee16d190e9e"
      },
      "source": [
        "l=[444,789,65,43,522,900]\r\n",
        "l.index(43)"
      ],
      "execution_count": 18,
      "outputs": [
        {
          "output_type": "execute_result",
          "data": {
            "text/plain": [
              "3"
            ]
          },
          "metadata": {
            "tags": []
          },
          "execution_count": 18
        }
      ]
    },
    {
      "cell_type": "markdown",
      "metadata": {
        "id": "E5lw6aoyJcmB"
      },
      "source": [
        "Question No.3: Experiment with atleast 5 default functions of dictionary."
      ]
    },
    {
      "cell_type": "markdown",
      "metadata": {
        "id": "jgiKuqLuKCZF"
      },
      "source": [
        "1.copy()"
      ]
    },
    {
      "cell_type": "code",
      "metadata": {
        "colab": {
          "base_uri": "https://localhost:8080/"
        },
        "id": "Ja_DhvMpKAxh",
        "outputId": "75162297-7e6e-4f42-c3fb-c9329623a5ae"
      },
      "source": [
        "dict1={1:'LetsUpgrade',2:'Python',3:'Essentials'}\r\n",
        "dict2=dict1.copy()\r\n",
        "print(dict1)\r\n",
        "print(dict2)"
      ],
      "execution_count": 19,
      "outputs": [
        {
          "output_type": "stream",
          "text": [
            "{1: 'LetsUpgrade', 2: 'Python', 3: 'Essentials'}\n",
            "{1: 'LetsUpgrade', 2: 'Python', 3: 'Essentials'}\n"
          ],
          "name": "stdout"
        }
      ]
    },
    {
      "cell_type": "markdown",
      "metadata": {
        "id": "gOyzFAQtMjcp"
      },
      "source": [
        "2.keys()"
      ]
    },
    {
      "cell_type": "code",
      "metadata": {
        "colab": {
          "base_uri": "https://localhost:8080/"
        },
        "id": "yj5VIYEnOo5t",
        "outputId": "c5f0360d-a0ae-47fc-aceb-e186857151b9"
      },
      "source": [
        "di={1:400,2:500,5:687,10:344}\r\n",
        "print(di.keys())"
      ],
      "execution_count": 26,
      "outputs": [
        {
          "output_type": "stream",
          "text": [
            "dict_keys([1, 2, 5, 10])\n"
          ],
          "name": "stdout"
        }
      ]
    },
    {
      "cell_type": "markdown",
      "metadata": {
        "id": "VNs1B2KvPQXg"
      },
      "source": [
        "3.values()"
      ]
    },
    {
      "cell_type": "code",
      "metadata": {
        "colab": {
          "base_uri": "https://localhost:8080/"
        },
        "id": "Cgo6vuU3PZlp",
        "outputId": "dbc838ce-054b-4919-966d-352ab87ccc08"
      },
      "source": [
        "dic={1:400,3:456,6:900,7:455}\r\n",
        "print(dic.values())"
      ],
      "execution_count": 27,
      "outputs": [
        {
          "output_type": "stream",
          "text": [
            "dict_values([400, 456, 900, 455])\n"
          ],
          "name": "stdout"
        }
      ]
    },
    {
      "cell_type": "markdown",
      "metadata": {
        "id": "MrrimDnLPrnU"
      },
      "source": [
        "4.update()"
      ]
    },
    {
      "cell_type": "code",
      "metadata": {
        "colab": {
          "base_uri": "https://localhost:8080/"
        },
        "id": "jJ0kXYviPz0D",
        "outputId": "a00664bf-f42b-4e88-e835-30e8ea80cd5e"
      },
      "source": [
        "dic={'Name':'Sakshi','age':20}\r\n",
        "dic1={'gender':'female'}\r\n",
        "dic.update(dic1)\r\n",
        "print(dic)"
      ],
      "execution_count": 28,
      "outputs": [
        {
          "output_type": "stream",
          "text": [
            "{'Name': 'Sakshi', 'age': 20, 'gender': 'female'}\n"
          ],
          "name": "stdout"
        }
      ]
    },
    {
      "cell_type": "markdown",
      "metadata": {
        "id": "IDI2qKpVQe_e"
      },
      "source": [
        "5.len()"
      ]
    },
    {
      "cell_type": "code",
      "metadata": {
        "colab": {
          "base_uri": "https://localhost:8080/"
        },
        "id": "LfWhwaWxQykV",
        "outputId": "ddb53d48-578c-44d5-e026-1be962026ad2"
      },
      "source": [
        "dic={2:23,3:45,7:27,8:66}\r\n",
        "print(len(dic))"
      ],
      "execution_count": 29,
      "outputs": [
        {
          "output_type": "stream",
          "text": [
            "4\n"
          ],
          "name": "stdout"
        }
      ]
    }
  ]
}