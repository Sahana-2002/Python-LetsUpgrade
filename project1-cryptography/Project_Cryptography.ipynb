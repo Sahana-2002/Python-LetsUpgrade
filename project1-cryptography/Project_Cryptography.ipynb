{
  "nbformat": 4,
  "nbformat_minor": 0,
  "metadata": {
    "colab": {
      "name": "Project-:Cryptography.ipynb",
      "provenance": []
    },
    "kernelspec": {
      "name": "python3",
      "display_name": "Python 3"
    }
  },
  "cells": [
    {
      "cell_type": "markdown",
      "metadata": {
        "id": "ApebJAWOsxNt"
      },
      "source": [
        "Project-1:Cryptography"
      ]
    },
    {
      "cell_type": "code",
      "metadata": {
        "colab": {
          "base_uri": "https://localhost:8080/"
        },
        "id": "XOyBVHW5suGl",
        "outputId": "dfa584ca-2d04-41b0-a666-462dfb806da9"
      },
      "source": [
        "!pip install Cryptography"
      ],
      "execution_count": 2,
      "outputs": [
        {
          "output_type": "stream",
          "text": [
            "Collecting Cryptography\n",
            "\u001b[?25l  Downloading https://files.pythonhosted.org/packages/c9/de/7054df0620b5411ba45480f0261e1fb66a53f3db31b28e3aa52c026e72d9/cryptography-3.3.1-cp36-abi3-manylinux2010_x86_64.whl (2.6MB)\n",
            "\u001b[K     |████████████████████████████████| 2.6MB 5.5MB/s \n",
            "\u001b[?25hRequirement already satisfied: cffi>=1.12 in /usr/local/lib/python3.6/dist-packages (from Cryptography) (1.14.4)\n",
            "Requirement already satisfied: six>=1.4.1 in /usr/local/lib/python3.6/dist-packages (from Cryptography) (1.15.0)\n",
            "Requirement already satisfied: pycparser in /usr/local/lib/python3.6/dist-packages (from cffi>=1.12->Cryptography) (2.20)\n",
            "Installing collected packages: Cryptography\n",
            "Successfully installed Cryptography-3.3.1\n"
          ],
          "name": "stdout"
        }
      ]
    },
    {
      "cell_type": "code",
      "metadata": {
        "id": "HYrRHM00uzBj"
      },
      "source": [
        "from cryptography.fernet import Fernet"
      ],
      "execution_count": 12,
      "outputs": []
    },
    {
      "cell_type": "code",
      "metadata": {
        "id": "nfXjqif3wAWU"
      },
      "source": [
        "def passkey():\r\n",
        "    key=Fernet.generate_key()\r\n",
        "    print(key)\r\n",
        "    print(type(key))\r\n",
        "    a=open(\"messages.key\",'wb')\r\n",
        "    a.write(key)\r\n",
        "    a.close()"
      ],
      "execution_count": 13,
      "outputs": []
    },
    {
      "cell_type": "code",
      "metadata": {
        "colab": {
          "base_uri": "https://localhost:8080/"
        },
        "id": "psnmyt8ww6OR",
        "outputId": "2a3b0cde-13cb-4362-b873-7262b8ae6fbc"
      },
      "source": [
        "passkey()"
      ],
      "execution_count": 14,
      "outputs": [
        {
          "output_type": "stream",
          "text": [
            "b'rQWp8eAN84xtumWXGgAwB54LoK-9oxMEGFtXWj6nqWk='\n",
            "<class 'bytes'>\n"
          ],
          "name": "stdout"
        }
      ]
    },
    {
      "cell_type": "code",
      "metadata": {
        "id": "rPXRqkYpxB5F"
      },
      "source": [
        "def getmykey():\r\n",
        "    a=open(\"messages.key\",'rb')\r\n",
        "    return a.read()"
      ],
      "execution_count": 15,
      "outputs": []
    },
    {
      "cell_type": "code",
      "metadata": {
        "colab": {
          "base_uri": "https://localhost:8080/"
        },
        "id": "7EW6SpFyxWv0",
        "outputId": "a6c90121-b019-49aa-c114-917bc12abe3c"
      },
      "source": [
        "getmykey()"
      ],
      "execution_count": 16,
      "outputs": [
        {
          "output_type": "execute_result",
          "data": {
            "text/plain": [
              "b'rQWp8eAN84xtumWXGgAwB54LoK-9oxMEGFtXWj6nqWk='"
            ]
          },
          "metadata": {
            "tags": []
          },
          "execution_count": 16
        }
      ]
    },
    {
      "cell_type": "code",
      "metadata": {
        "id": "n_khVVHKxb53"
      },
      "source": [
        "def contentfromuser():\r\n",
        "    return input(\"Enter the content:\")"
      ],
      "execution_count": 17,
      "outputs": []
    },
    {
      "cell_type": "code",
      "metadata": {
        "colab": {
          "base_uri": "https://localhost:8080/",
          "height": 52
        },
        "id": "ulYvPPqjzPg0",
        "outputId": "2e565527-fc17-46e2-d6b0-78e1d71e30c8"
      },
      "source": [
        "contentfromuser()"
      ],
      "execution_count": 20,
      "outputs": [
        {
          "output_type": "stream",
          "text": [
            "Enter the content:'Good Morning Dad !'\n"
          ],
          "name": "stdout"
        },
        {
          "output_type": "execute_result",
          "data": {
            "application/vnd.google.colaboratory.intrinsic+json": {
              "type": "string"
            },
            "text/plain": [
              "\"'Good Morning Dad !'\""
            ]
          },
          "metadata": {
            "tags": []
          },
          "execution_count": 20
        }
      ]
    },
    {
      "cell_type": "code",
      "metadata": {
        "id": "ZV5Sv6lZyUvf"
      },
      "source": [
        "def encryptMessage(message_normal):\r\n",
        "    key=getmykey()\r\n",
        "    k=Fernet(key)\r\n",
        "    encrypted_message=k.encrypt(message_normal)\r\n",
        "    return encrypted_message"
      ],
      "execution_count": 22,
      "outputs": []
    },
    {
      "cell_type": "code",
      "metadata": {
        "colab": {
          "base_uri": "https://localhost:8080/"
        },
        "id": "pdRB242xzf0f",
        "outputId": "2192cf4e-d6b1-4d28-da75-09a05df38109"
      },
      "source": [
        "encryptMessage(b\"Good Morning Dad!\")"
      ],
      "execution_count": 23,
      "outputs": [
        {
          "output_type": "execute_result",
          "data": {
            "text/plain": [
              "b'gAAAAABf2Mh-NMK1j0sAr-h2KPDplYd72Jlfc8oJ5AmaU4-VYwBw_xswBaJtrKvmAOogTgi7IySNXwYC2YTt18TGTnj9umpgW8X5w6inCmX9nzI6EktIC7w='"
            ]
          },
          "metadata": {
            "tags": []
          },
          "execution_count": 23
        }
      ]
    },
    {
      "cell_type": "code",
      "metadata": {
        "id": "8to-sZp9zz8u"
      },
      "source": [
        "def decryptMessage(message_secret):\r\n",
        "    key=getmykey()\r\n",
        "    k=Fernet(key)\r\n",
        "    decrypted_message=k.decrypt(message_secret)\r\n",
        "    return decrypted_message"
      ],
      "execution_count": 24,
      "outputs": []
    },
    {
      "cell_type": "code",
      "metadata": {
        "colab": {
          "base_uri": "https://localhost:8080/"
        },
        "id": "fp1MmCxl0Txq",
        "outputId": "13c24427-5bb7-4699-c866-6a645b6134c1"
      },
      "source": [
        "decryptMessage(b'gAAAAABf2Mh-NMK1j0sAr-h2KPDplYd72Jlfc8oJ5AmaU4-VYwBw_xswBaJtrKvmAOogTgi7IySNXwYC2YTt18TGTnj9umpgW8X5w6inCmX9nzI6EktIC7w=')"
      ],
      "execution_count": 25,
      "outputs": [
        {
          "output_type": "execute_result",
          "data": {
            "text/plain": [
              "b'Good Morning Dad!'"
            ]
          },
          "metadata": {
            "tags": []
          },
          "execution_count": 25
        }
      ]
    }
  ]
}