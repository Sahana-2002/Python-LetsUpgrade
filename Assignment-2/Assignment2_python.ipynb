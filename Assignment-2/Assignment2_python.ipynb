{
  "nbformat": 4,
  "nbformat_minor": 0,
  "metadata": {
    "colab": {
      "name": "Assignment2-python.ipynb",
      "provenance": []
    },
    "kernelspec": {
      "name": "python3",
      "display_name": "Python 3"
    }
  },
  "cells": [
    {
      "cell_type": "markdown",
      "metadata": {
        "id": "cl5YBR3_q_en"
      },
      "source": [
        "Assignment-2"
      ]
    },
    {
      "cell_type": "markdown",
      "metadata": {
        "id": "c7ngXCumrF7o"
      },
      "source": [
        "Question No.1: Use if else and elif to write a program in python for your Report Cards. "
      ]
    },
    {
      "cell_type": "code",
      "metadata": {
        "colab": {
          "base_uri": "https://localhost:8080/"
        },
        "id": "FrAhZ53qq6tV",
        "outputId": "94d9643f-de79-487d-f83a-d4f405fbda14"
      },
      "source": [
        "# Program to print our report card using if else and elif.\r\n",
        "english= int(input())\r\n",
        "hindi= int(input())\r\n",
        "cprogramming= int(input())\r\n",
        "operating_system= int(input())\r\n",
        "computer_hardware_and_software= int(input())\r\n",
        "computer_fundamentals= int(input())\r\n",
        "total=english+hindi+cprogramming+operating_system+computer_hardware_and_software+computer_fundamentals\r\n",
        "percentage=(total/600)*100\r\n",
        "print(\"Total Marks=\",total)\r\n",
        "print(\"Percentage=\",percentage)\r\n",
        "if(percentage<40):\r\n",
        "    print(\"FAIL\")\r\n",
        "elif((percentage>=40) and (percentage<50)):\r\n",
        "    print(\"PASS CLASS\")\r\n",
        "elif((percentage>=50) and (percentage<60)):\r\n",
        "    print(\"SECOND CLASS\")\r\n",
        "elif((percentage>=60) and (percentage<80)):\r\n",
        "    print(\"FIRST CLASS\")\r\n",
        "elif((percentage>=80) and (percentage<100)):\r\n",
        "    print(\"DISTINCTION\")\r\n",
        "else:\r\n",
        "    print(\"INVALID INPUT\")"
      ],
      "execution_count": 5,
      "outputs": [
        {
          "output_type": "stream",
          "text": [
            "90\n",
            "97\n",
            "97\n",
            "94\n",
            "92\n",
            "89\n",
            "Total Marks= 559\n",
            "Percentage= 93.16666666666666\n",
            "DISTINCTION\n"
          ],
          "name": "stdout"
        }
      ]
    },
    {
      "cell_type": "markdown",
      "metadata": {
        "id": "QksEgBgkw-7l"
      },
      "source": [
        "Question No.2: Use for loop to print prime numbers in between 1 to 1000."
      ]
    },
    {
      "cell_type": "code",
      "metadata": {
        "colab": {
          "base_uri": "https://localhost:8080/"
        },
        "id": "8OJna5m8xR2U",
        "outputId": "247b5369-c39b-46fe-8bf1-89e6621fc0b5"
      },
      "source": [
        "# Program to print prime numbers in between from 1 to 1000\r\n",
        "u=1000\r\n",
        "for a in range(1,u+1):\r\n",
        "    k=0\r\n",
        "    for i in range(2,a//2+1):\r\n",
        "        if(a%i==0):\r\n",
        "            k=k+1\r\n",
        "    if(k<=0):\r\n",
        "        print(a,end=' ')"
      ],
      "execution_count": 32,
      "outputs": [
        {
          "output_type": "stream",
          "text": [
            "1 2 3 5 7 11 13 17 19 23 29 31 37 41 43 47 53 59 61 67 71 73 79 83 89 97 101 103 107 109 113 127 131 137 139 149 151 157 163 167 173 179 181 191 193 197 199 211 223 227 229 233 239 241 251 257 263 269 271 277 281 283 293 307 311 313 317 331 337 347 349 353 359 367 373 379 383 389 397 401 409 419 421 431 433 439 443 449 457 461 463 467 479 487 491 499 503 509 521 523 541 547 557 563 569 571 577 587 593 599 601 607 613 617 619 631 641 643 647 653 659 661 673 677 683 691 701 709 719 727 733 739 743 751 757 761 769 773 787 797 809 811 821 823 827 829 839 853 857 859 863 877 881 883 887 907 911 919 929 937 941 947 953 967 971 977 983 991 997 "
          ],
          "name": "stdout"
        }
      ]
    },
    {
      "cell_type": "markdown",
      "metadata": {
        "id": "voXKiBIq5wYC"
      },
      "source": [
        "Question No.3: Write a program for printing the tables from 1,10 using Nested for loop."
      ]
    },
    {
      "cell_type": "code",
      "metadata": {
        "colab": {
          "base_uri": "https://localhost:8080/"
        },
        "id": "tkLbv9Qq6Lbv",
        "outputId": "a221f800-e631-4cb7-dd07-9e6e3e43bf09"
      },
      "source": [
        "# program to print the tables from 1,10 using nested loop.\r\n",
        "for item in range(1,11):\r\n",
        "    print(item)\r\n",
        "    for a in range(1,11):\r\n",
        "        print(item,\"x\",a,\"=\",item*a)"
      ],
      "execution_count": 35,
      "outputs": [
        {
          "output_type": "stream",
          "text": [
            "1\n",
            "1 x 1 = 1\n",
            "1 x 2 = 2\n",
            "1 x 3 = 3\n",
            "1 x 4 = 4\n",
            "1 x 5 = 5\n",
            "1 x 6 = 6\n",
            "1 x 7 = 7\n",
            "1 x 8 = 8\n",
            "1 x 9 = 9\n",
            "1 x 10 = 10\n",
            "2\n",
            "2 x 1 = 2\n",
            "2 x 2 = 4\n",
            "2 x 3 = 6\n",
            "2 x 4 = 8\n",
            "2 x 5 = 10\n",
            "2 x 6 = 12\n",
            "2 x 7 = 14\n",
            "2 x 8 = 16\n",
            "2 x 9 = 18\n",
            "2 x 10 = 20\n",
            "3\n",
            "3 x 1 = 3\n",
            "3 x 2 = 6\n",
            "3 x 3 = 9\n",
            "3 x 4 = 12\n",
            "3 x 5 = 15\n",
            "3 x 6 = 18\n",
            "3 x 7 = 21\n",
            "3 x 8 = 24\n",
            "3 x 9 = 27\n",
            "3 x 10 = 30\n",
            "4\n",
            "4 x 1 = 4\n",
            "4 x 2 = 8\n",
            "4 x 3 = 12\n",
            "4 x 4 = 16\n",
            "4 x 5 = 20\n",
            "4 x 6 = 24\n",
            "4 x 7 = 28\n",
            "4 x 8 = 32\n",
            "4 x 9 = 36\n",
            "4 x 10 = 40\n",
            "5\n",
            "5 x 1 = 5\n",
            "5 x 2 = 10\n",
            "5 x 3 = 15\n",
            "5 x 4 = 20\n",
            "5 x 5 = 25\n",
            "5 x 6 = 30\n",
            "5 x 7 = 35\n",
            "5 x 8 = 40\n",
            "5 x 9 = 45\n",
            "5 x 10 = 50\n",
            "6\n",
            "6 x 1 = 6\n",
            "6 x 2 = 12\n",
            "6 x 3 = 18\n",
            "6 x 4 = 24\n",
            "6 x 5 = 30\n",
            "6 x 6 = 36\n",
            "6 x 7 = 42\n",
            "6 x 8 = 48\n",
            "6 x 9 = 54\n",
            "6 x 10 = 60\n",
            "7\n",
            "7 x 1 = 7\n",
            "7 x 2 = 14\n",
            "7 x 3 = 21\n",
            "7 x 4 = 28\n",
            "7 x 5 = 35\n",
            "7 x 6 = 42\n",
            "7 x 7 = 49\n",
            "7 x 8 = 56\n",
            "7 x 9 = 63\n",
            "7 x 10 = 70\n",
            "8\n",
            "8 x 1 = 8\n",
            "8 x 2 = 16\n",
            "8 x 3 = 24\n",
            "8 x 4 = 32\n",
            "8 x 5 = 40\n",
            "8 x 6 = 48\n",
            "8 x 7 = 56\n",
            "8 x 8 = 64\n",
            "8 x 9 = 72\n",
            "8 x 10 = 80\n",
            "9\n",
            "9 x 1 = 9\n",
            "9 x 2 = 18\n",
            "9 x 3 = 27\n",
            "9 x 4 = 36\n",
            "9 x 5 = 45\n",
            "9 x 6 = 54\n",
            "9 x 7 = 63\n",
            "9 x 8 = 72\n",
            "9 x 9 = 81\n",
            "9 x 10 = 90\n",
            "10\n",
            "10 x 1 = 10\n",
            "10 x 2 = 20\n",
            "10 x 3 = 30\n",
            "10 x 4 = 40\n",
            "10 x 5 = 50\n",
            "10 x 6 = 60\n",
            "10 x 7 = 70\n",
            "10 x 8 = 80\n",
            "10 x 9 = 90\n",
            "10 x 10 = 100\n"
          ],
          "name": "stdout"
        }
      ]
    },
    {
      "cell_type": "markdown",
      "metadata": {
        "id": "8u-8FRtS7ePT"
      },
      "source": [
        "Question No.4: Write a program to print x prime Numbers using while loop starting from 0, and take the input of x from the user."
      ]
    },
    {
      "cell_type": "code",
      "metadata": {
        "colab": {
          "base_uri": "https://localhost:8080/"
        },
        "id": "gwBZBEqr73rA",
        "outputId": "06f4d7f3-014f-4084-e1a5-7fffc23d183b"
      },
      "source": [
        "# Program to print x prime numbers using while loop.\r\n",
        "x=int(input(\"Enter the range:\"))\r\n",
        "n=0\r\n",
        "while(n<=x):\r\n",
        "      count=0\r\n",
        "      i=2\r\n",
        "      while(i<=n/2):\r\n",
        "          if(n%i==0):\r\n",
        "              count=count+1\r\n",
        "              break\r\n",
        "          i=i+1\r\n",
        "      if(count==0 and n!=1):\r\n",
        "          print(n)\r\n",
        "      n=n+1"
      ],
      "execution_count": 36,
      "outputs": [
        {
          "output_type": "stream",
          "text": [
            "Enter the range:20\n",
            "0\n",
            "2\n",
            "3\n",
            "5\n",
            "7\n",
            "11\n",
            "13\n",
            "17\n",
            "19\n"
          ],
          "name": "stdout"
        }
      ]
    }
  ]
}