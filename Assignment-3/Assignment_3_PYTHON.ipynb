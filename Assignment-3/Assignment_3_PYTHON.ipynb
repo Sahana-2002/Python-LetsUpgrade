{
  "nbformat": 4,
  "nbformat_minor": 0,
  "metadata": {
    "colab": {
      "name": "Assignment-3 PYTHON.ipynb",
      "provenance": []
    },
    "kernelspec": {
      "name": "python3",
      "display_name": "Python 3"
    }
  },
  "cells": [
    {
      "cell_type": "markdown",
      "metadata": {
        "id": "8GSA9OdnOeZH"
      },
      "source": [
        "Assignment-3"
      ]
    },
    {
      "cell_type": "code",
      "metadata": {
        "id": "glfIHlDJOZrt"
      },
      "source": [
        "#1.program to open a file and write \"I love LetsUpgrade\" and close it and then read it back again and append some data to it and close it.\r\n",
        "f=open(\"introduction.txt\",\"w\")\r\n",
        "f.write(\"I Love Letsupgrade\")\r\n",
        "f.close()"
      ],
      "execution_count": 1,
      "outputs": []
    },
    {
      "cell_type": "code",
      "metadata": {
        "id": "Vj_brbRYPbCv"
      },
      "source": [
        "f=open(\"introduction.txt\",\"r\")\r\n",
        "content=f.read()\r\n",
        "f.close()"
      ],
      "execution_count": 2,
      "outputs": []
    },
    {
      "cell_type": "code",
      "metadata": {
        "colab": {
          "base_uri": "https://localhost:8080/",
          "height": 35
        },
        "id": "LFo0GA5MPsx_",
        "outputId": "610be936-5aba-42d0-ba0f-81da19cc8227"
      },
      "source": [
        "content"
      ],
      "execution_count": 3,
      "outputs": [
        {
          "output_type": "execute_result",
          "data": {
            "application/vnd.google.colaboratory.intrinsic+json": {
              "type": "string"
            },
            "text/plain": [
              "'I Love Letsupgrade'"
            ]
          },
          "metadata": {
            "tags": []
          },
          "execution_count": 3
        }
      ]
    },
    {
      "cell_type": "code",
      "metadata": {
        "id": "Ad5HUmgXPv97"
      },
      "source": [
        "f=open(\"introduction.txt\",\"a\")\r\n",
        "f.write(\", its such a platform to learn, improve, gain knowledge about coding.\")\r\n",
        "f.close()"
      ],
      "execution_count": 4,
      "outputs": []
    },
    {
      "cell_type": "code",
      "metadata": {
        "id": "daBYAKnRQQL8"
      },
      "source": [
        "f=open(\"introduction.txt\",\"r\")\r\n",
        "content=f.read()\r\n",
        "f.close()"
      ],
      "execution_count": 5,
      "outputs": []
    },
    {
      "cell_type": "code",
      "metadata": {
        "colab": {
          "base_uri": "https://localhost:8080/",
          "height": 35
        },
        "id": "uSRyDL10QgCH",
        "outputId": "4d809bd6-9121-42b1-dbe6-431111e4619b"
      },
      "source": [
        "content"
      ],
      "execution_count": 6,
      "outputs": [
        {
          "output_type": "execute_result",
          "data": {
            "application/vnd.google.colaboratory.intrinsic+json": {
              "type": "string"
            },
            "text/plain": [
              "'I Love Letsupgrade, its such a platform to learn, improve, gain knowledge about coding.'"
            ]
          },
          "metadata": {
            "tags": []
          },
          "execution_count": 6
        }
      ]
    },
    {
      "cell_type": "code",
      "metadata": {
        "id": "m-9ejC1fQk58"
      },
      "source": [
        "# A function which can return a factorial of any numbers as int, given in the argument.\r\n",
        "def fact(n):\r\n",
        "    fact=1;\r\n",
        "    i=1\r\n",
        "    while i<=n:\r\n",
        "        fact=fact*i\r\n",
        "        i=i+1\r\n",
        "    return fact"
      ],
      "execution_count": 7,
      "outputs": []
    },
    {
      "cell_type": "code",
      "metadata": {
        "colab": {
          "base_uri": "https://localhost:8080/"
        },
        "id": "E3lb_9EURgEA",
        "outputId": "d529ac07-847b-4849-b495-ad832525c6ca"
      },
      "source": [
        "fact(5)"
      ],
      "execution_count": 8,
      "outputs": [
        {
          "output_type": "execute_result",
          "data": {
            "text/plain": [
              "120"
            ]
          },
          "metadata": {
            "tags": []
          },
          "execution_count": 8
        }
      ]
    }
  ]
}