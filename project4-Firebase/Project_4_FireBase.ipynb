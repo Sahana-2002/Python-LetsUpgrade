{
  "nbformat": 4,
  "nbformat_minor": 0,
  "metadata": {
    "colab": {
      "name": "Project-4:FireBase.ipynb",
      "provenance": []
    },
    "kernelspec": {
      "name": "python3",
      "display_name": "Python 3"
    }
  },
  "cells": [
    {
      "cell_type": "code",
      "metadata": {
        "colab": {
          "base_uri": "https://localhost:8080/"
        },
        "id": "QooKJhfEOpV2",
        "outputId": "dc60977f-617f-4a70-80b4-b05ade5bda73"
      },
      "source": [
        "!pip install firebase"
      ],
      "execution_count": 1,
      "outputs": [
        {
          "output_type": "stream",
          "text": [
            "Collecting firebase\n",
            "  Downloading https://files.pythonhosted.org/packages/f8/33/6b2a24e349563f2d279ccc8321f26a9c0d6d2f8205adb68f3046c3ec7a89/firebase-3.0.1-py3-none-any.whl\n",
            "Requirement already satisfied: requests in /usr/local/lib/python3.6/dist-packages (from firebase) (2.23.0)\n",
            "Requirement already satisfied: certifi>=2017.4.17 in /usr/local/lib/python3.6/dist-packages (from requests->firebase) (2020.12.5)\n",
            "Requirement already satisfied: chardet<4,>=3.0.2 in /usr/local/lib/python3.6/dist-packages (from requests->firebase) (3.0.4)\n",
            "Requirement already satisfied: urllib3!=1.25.0,!=1.25.1,<1.26,>=1.21.1 in /usr/local/lib/python3.6/dist-packages (from requests->firebase) (1.24.3)\n",
            "Requirement already satisfied: idna<3,>=2.5 in /usr/local/lib/python3.6/dist-packages (from requests->firebase) (2.10)\n",
            "Installing collected packages: firebase\n",
            "Successfully installed firebase-3.0.1\n"
          ],
          "name": "stdout"
        }
      ]
    },
    {
      "cell_type": "code",
      "metadata": {
        "id": "SS48C9mZOy1j"
      },
      "source": [
        "import firebase_admin"
      ],
      "execution_count": 6,
      "outputs": []
    },
    {
      "cell_type": "code",
      "metadata": {
        "id": "G-vhT6MFO5ac"
      },
      "source": [
        "from firebase_admin import credentials\r\n",
        "from firebase_admin import firestore"
      ],
      "execution_count": 7,
      "outputs": []
    },
    {
      "cell_type": "code",
      "metadata": {
        "id": "AzwlH2j2cbwh"
      },
      "source": [
        "cred = credentials.Certificate(\"python-demo-letsupgrade-firebase-adminsdk-uarq8-8b119e9481.json\")\r\n",
        "firebase_admin.initialize_app(cred)"
      ],
      "execution_count": null,
      "outputs": []
    },
    {
      "cell_type": "code",
      "metadata": {
        "id": "GXPjqjjtccZw"
      },
      "source": [
        "db = firestore.client()"
      ],
      "execution_count": null,
      "outputs": []
    },
    {
      "cell_type": "code",
      "metadata": {
        "id": "IS5DbO4yaq88"
      },
      "source": [
        "doc_ref = db.collection(u'users').document(u'abc')\r\n",
        "\r\n",
        "doc_ref.set({\r\n",
        "    u'first': u'Faiza',\r\n",
        "    u'last': u'Gokak',\r\n",
        "    u'born': 1997\r\n",
        "})"
      ],
      "execution_count": null,
      "outputs": []
    },
    {
      "cell_type": "code",
      "metadata": {
        "id": "yJRWo2crasAj"
      },
      "source": [
        "def enterDataInDB():\r\n",
        "    doc_ref = db.collection(u'LetsUpgradeUsers').document()\r\n",
        "    \r\n",
        "    name = input(\"Enter Name - \")\r\n",
        "    lastName = input(\"Enter Last Name - \")\r\n",
        "    age = int(input(\"Enter Age - \"))\r\n",
        "    \r\n",
        "    dit = {}\r\n",
        "    dit[\"firstName\"] = name\r\n",
        "    dit[\"lastName\"] = lastName\r\n",
        "    dit[\"age\"] = age\r\n",
        "    \r\n",
        "    doc_ref.set(dit)"
      ],
      "execution_count": null,
      "outputs": []
    },
    {
      "cell_type": "code",
      "metadata": {
        "id": "aKoAf3EiazFG"
      },
      "source": [
        "enterDataInDB(\"sai\",\"lu\",90)"
      ],
      "execution_count": null,
      "outputs": []
    },
    {
      "cell_type": "code",
      "metadata": {
        "id": "nUo0sOG-bBQH"
      },
      "source": [
        "enterDataInDB(\"Yogesh\",\"LU\",7829)"
      ],
      "execution_count": null,
      "outputs": []
    },
    {
      "cell_type": "code",
      "metadata": {
        "id": "s6j2f0fCbHdp"
      },
      "source": [
        "enterDataInDB(\"Tejas\",\"LU\",17)"
      ],
      "execution_count": null,
      "outputs": []
    },
    {
      "cell_type": "code",
      "metadata": {
        "id": "CAngRK36bM13"
      },
      "source": [
        "enterDataInDB(\"Trith\",\"Shah\",17)"
      ],
      "execution_count": null,
      "outputs": []
    },
    {
      "cell_type": "code",
      "metadata": {
        "id": "lit-Ddv7bSVV"
      },
      "source": [
        "enterDataInDB(\"kairav\",\"Singh LU\",17)"
      ],
      "execution_count": null,
      "outputs": []
    },
    {
      "cell_type": "code",
      "metadata": {
        "id": "KdDe7hXXbWVx"
      },
      "source": [
        "enterDataInDB(\"Saikiran\",\"LetsUpgrade\",50)"
      ],
      "execution_count": null,
      "outputs": []
    },
    {
      "cell_type": "code",
      "metadata": {
        "id": "orK4YkJCbak7"
      },
      "source": [
        "enterDataInDB(\"manglesh\",\"Kumar LU\",23)"
      ],
      "execution_count": null,
      "outputs": []
    },
    {
      "cell_type": "code",
      "metadata": {
        "id": "3wEs3ia3bhKF"
      },
      "source": [
        "enterDataInDB()"
      ],
      "execution_count": null,
      "outputs": []
    },
    {
      "cell_type": "code",
      "metadata": {
        "id": "_MPvKEgdbpHc"
      },
      "source": [
        "docs = db.collection(u'LetsUpgradeUsers').stream()\r\n",
        "\r\n",
        "for doc in docs:\r\n",
        "#     print(f'{doc.id} => {doc.to_dict()}')\r\n",
        "    \r\n",
        "    print(\"ID - \", doc.id)\r\n",
        "    \r\n",
        "    print(\"First Name - \", doc.to_dict().get(\"firstName\"))\r\n",
        "    print(\"Last Name - \", doc.to_dict().get(\"lastName\"))\r\n",
        "    print(\"Age - \", doc.to_dict().get(\"age\") )\r\n",
        "    \r\n",
        "    print(\"---------------\")\r\n",
        "    print(\"---------------\")"
      ],
      "execution_count": null,
      "outputs": []
    },
    {
      "cell_type": "code",
      "metadata": {
        "id": "TXpEh7UXbxYj"
      },
      "source": [
        "def updateDatainFirebase(uid, updatedAge):\r\n",
        "    doc_ref = db.collection(u'LetsUpgradeUsers').document(uid)\r\n",
        "    \r\n",
        "    doc_ref.update({\"age\":updatedAge})"
      ],
      "execution_count": null,
      "outputs": []
    },
    {
      "cell_type": "code",
      "metadata": {
        "id": "qzMGTO25b4OX"
      },
      "source": [
        "updateDatainFirebase(\"zslFTBzZl8BKFhSI4Yxw\",26)"
      ],
      "execution_count": null,
      "outputs": []
    },
    {
      "cell_type": "code",
      "metadata": {
        "id": "QNqtHnxvb9ts"
      },
      "source": [
        "updateDatainFirebase(\"tQQd4Kt7UdGD6xuldAAN\",17)"
      ],
      "execution_count": null,
      "outputs": []
    },
    {
      "cell_type": "code",
      "metadata": {
        "id": "ui_pNT16cCRj"
      },
      "source": [
        "def deleteDataInFirebase(uid):\r\n",
        "    db.collection(u'LetsUpgradeUsers').document(uid).delete()"
      ],
      "execution_count": null,
      "outputs": []
    },
    {
      "cell_type": "code",
      "metadata": {
        "id": "neFW92LLcH7f"
      },
      "source": [
        "deleteDataInFirebase(\"0rg4glbfc8l7cuTbl2MD\")"
      ],
      "execution_count": null,
      "outputs": []
    },
    {
      "cell_type": "code",
      "metadata": {
        "id": "8uDy38ukcL21"
      },
      "source": [
        "deleteDataInFirebase(\"bbr4TLEuXvRhqaMYAV5d\")"
      ],
      "execution_count": null,
      "outputs": []
    }
  ]
}